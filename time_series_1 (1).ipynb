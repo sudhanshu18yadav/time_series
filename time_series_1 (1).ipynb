{
 "cells": [
  {
   "cell_type": "code",
   "execution_count": 1,
   "metadata": {},
   "outputs": [],
   "source": [
    "import pandas as pd\n",
    "import numpy as np"
   ]
  },
  {
   "cell_type": "code",
   "execution_count": 2,
   "metadata": {},
   "outputs": [],
   "source": [
    "from datetime import datetime"
   ]
  },
  {
   "cell_type": "code",
   "execution_count": 3,
   "metadata": {},
   "outputs": [],
   "source": [
    "dates = [datetime(2011,1,2),datetime(2011,1,5),datetime(2011,1,7),datetime(2011,1,8),datetime(2011,1,10),datetime(2011,1,12)]"
   ]
  },
  {
   "cell_type": "code",
   "execution_count": 5,
   "metadata": {},
   "outputs": [
    {
     "data": {
      "text/plain": [
       "2011-01-02    0.507064\n",
       "2011-01-05   -0.236377\n",
       "2011-01-07   -0.939907\n",
       "2011-01-08   -1.139079\n",
       "2011-01-10    0.078962\n",
       "2011-01-12   -2.114857\n",
       "dtype: float64"
      ]
     },
     "execution_count": 5,
     "metadata": {},
     "output_type": "execute_result"
    }
   ],
   "source": [
    "ts = pd.Series(np.random.randn(6), index = dates)\n",
    "ts"
   ]
  },
  {
   "cell_type": "code",
   "execution_count": 6,
   "metadata": {},
   "outputs": [
    {
     "data": {
      "text/plain": [
       "DatetimeIndex(['2011-01-02', '2011-01-05', '2011-01-07', '2011-01-08',\n",
       "               '2011-01-10', '2011-01-12'],\n",
       "              dtype='datetime64[ns]', freq=None)"
      ]
     },
     "execution_count": 6,
     "metadata": {},
     "output_type": "execute_result"
    }
   ],
   "source": [
    "ts.index"
   ]
  },
  {
   "cell_type": "code",
   "execution_count": 7,
   "metadata": {},
   "outputs": [
    {
     "data": {
      "text/plain": [
       "2011-01-02    1.014127\n",
       "2011-01-05         NaN\n",
       "2011-01-07   -1.879813\n",
       "2011-01-08         NaN\n",
       "2011-01-10    0.157924\n",
       "2011-01-12         NaN\n",
       "dtype: float64"
      ]
     },
     "execution_count": 7,
     "metadata": {},
     "output_type": "execute_result"
    }
   ],
   "source": [
    "ts+ts[::2]"
   ]
  },
  {
   "cell_type": "code",
   "execution_count": 10,
   "metadata": {},
   "outputs": [],
   "source": [
    "stamp = ts.index[2]"
   ]
  },
  {
   "cell_type": "code",
   "execution_count": 11,
   "metadata": {},
   "outputs": [
    {
     "data": {
      "text/plain": [
       "-0.9399066471299353"
      ]
     },
     "execution_count": 11,
     "metadata": {},
     "output_type": "execute_result"
    }
   ],
   "source": [
    "ts[stamp]"
   ]
  },
  {
   "cell_type": "code",
   "execution_count": null,
   "metadata": {},
   "outputs": [],
   "source": []
  },
  {
   "cell_type": "code",
   "execution_count": 16,
   "metadata": {},
   "outputs": [],
   "source": [
    "longer_ts = pd.Series(np.random.randn(1000),index=pd.date_range('1/1/2000', periods=1000))"
   ]
  },
  {
   "cell_type": "code",
   "execution_count": 17,
   "metadata": {},
   "outputs": [
    {
     "data": {
      "text/plain": [
       "2000-01-01    0.247482\n",
       "2000-01-02    0.231853\n",
       "2000-01-03   -1.551661\n",
       "2000-01-04    0.162881\n",
       "2000-01-05   -0.208803\n",
       "                ...   \n",
       "2002-09-22    1.428858\n",
       "2002-09-23    1.785737\n",
       "2002-09-24    0.934556\n",
       "2002-09-25    1.577967\n",
       "2002-09-26    0.912410\n",
       "Freq: D, Length: 1000, dtype: float64"
      ]
     },
     "execution_count": 17,
     "metadata": {},
     "output_type": "execute_result"
    }
   ],
   "source": [
    "longer_ts"
   ]
  },
  {
   "cell_type": "code",
   "execution_count": 18,
   "metadata": {},
   "outputs": [
    {
     "data": {
      "text/plain": [
       "2001-01-01   -0.030166\n",
       "2001-01-02    0.387491\n",
       "2001-01-03   -0.560680\n",
       "2001-01-04   -1.587120\n",
       "2001-01-05   -1.066279\n",
       "                ...   \n",
       "2001-12-27    1.244165\n",
       "2001-12-28   -1.365757\n",
       "2001-12-29    0.126117\n",
       "2001-12-30   -0.434075\n",
       "2001-12-31    0.764904\n",
       "Freq: D, Length: 365, dtype: float64"
      ]
     },
     "execution_count": 18,
     "metadata": {},
     "output_type": "execute_result"
    }
   ],
   "source": [
    "longer_ts['2001']"
   ]
  },
  {
   "cell_type": "code",
   "execution_count": 19,
   "metadata": {},
   "outputs": [
    {
     "data": {
      "text/plain": [
       "2001-06-01    1.681240\n",
       "2001-06-02    0.611385\n",
       "2001-06-03   -0.530945\n",
       "2001-06-04   -0.790645\n",
       "2001-06-05    0.039880\n",
       "2001-06-06   -0.099390\n",
       "2001-06-07   -0.343044\n",
       "2001-06-08   -1.456553\n",
       "2001-06-09   -1.391549\n",
       "2001-06-10    0.350710\n",
       "2001-06-11   -2.245841\n",
       "2001-06-12    0.065447\n",
       "2001-06-13   -0.297445\n",
       "2001-06-14   -1.883342\n",
       "2001-06-15   -1.197181\n",
       "2001-06-16    1.329052\n",
       "2001-06-17   -1.260412\n",
       "2001-06-18    0.341022\n",
       "2001-06-19   -0.754203\n",
       "2001-06-20   -0.325947\n",
       "2001-06-21   -1.357226\n",
       "2001-06-22    0.951605\n",
       "2001-06-23   -0.239676\n",
       "2001-06-24    0.472355\n",
       "2001-06-25   -0.908802\n",
       "2001-06-26   -1.678543\n",
       "2001-06-27   -0.026078\n",
       "2001-06-28    1.433966\n",
       "2001-06-29   -1.751794\n",
       "2001-06-30   -2.890656\n",
       "Freq: D, dtype: float64"
      ]
     },
     "execution_count": 19,
     "metadata": {},
     "output_type": "execute_result"
    }
   ],
   "source": [
    "longer_ts['2001-06']"
   ]
  },
  {
   "cell_type": "code",
   "execution_count": 21,
   "metadata": {},
   "outputs": [
    {
     "data": {
      "text/plain": [
       "2001-01-07   -1.931347\n",
       "2001-01-08    0.501737\n",
       "2001-01-09    1.985444\n",
       "2001-01-10    0.789446\n",
       "2001-01-11   -0.498157\n",
       "                ...   \n",
       "2002-09-22    1.428858\n",
       "2002-09-23    1.785737\n",
       "2002-09-24    0.934556\n",
       "2002-09-25    1.577967\n",
       "2002-09-26    0.912410\n",
       "Freq: D, Length: 628, dtype: float64"
      ]
     },
     "execution_count": 21,
     "metadata": {},
     "output_type": "execute_result"
    }
   ],
   "source": [
    "longer_ts[datetime(2001,1,7):]"
   ]
  },
  {
   "cell_type": "code",
   "execution_count": null,
   "metadata": {},
   "outputs": [],
   "source": []
  }
 ],
 "metadata": {
  "kernelspec": {
   "display_name": "Python 3",
   "language": "python",
   "name": "python3"
  },
  "language_info": {
   "codemirror_mode": {
    "name": "ipython",
    "version": 3
   },
   "file_extension": ".py",
   "mimetype": "text/x-python",
   "name": "python",
   "nbconvert_exporter": "python",
   "pygments_lexer": "ipython3",
   "version": "3.8.5"
  }
 },
 "nbformat": 4,
 "nbformat_minor": 4
}
